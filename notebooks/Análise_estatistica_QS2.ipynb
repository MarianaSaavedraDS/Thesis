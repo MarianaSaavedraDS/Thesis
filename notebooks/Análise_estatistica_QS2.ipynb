{
 "cells": [
  {
   "cell_type": "markdown",
   "metadata": {
    "id": "tvDN-HUkmHRH"
   },
   "source": [
    "## Input Files"
   ]
  },
  {
   "cell_type": "code",
   "execution_count": 1,
   "metadata": {
    "id": "CV6EjMcOkTL3"
   },
   "outputs": [],
   "source": [
    "import os"
   ]
  },
  {
   "cell_type": "code",
   "execution_count": null,
   "metadata": {
    "colab": {
     "base_uri": "https://localhost:8080/",
     "height": 243
    },
    "executionInfo": {
     "elapsed": 1409,
     "status": "ok",
     "timestamp": 1738682533016,
     "user": {
      "displayName": "Mariana Lourenço",
      "userId": "17945093930787008575"
     },
     "user_tz": 0
    },
    "id": "8z7Btd_skFue",
    "outputId": "6ab5a760-81a1-45aa-b9a6-e014ff065946"
   },
   "outputs": [
    {
     "data": {
      "application/vnd.google.colaboratory.intrinsic+json": {
       "summary": "{\n  \"name\": \"df_S1S2\",\n  \"rows\": 84,\n  \"fields\": [\n    {\n      \"column\": \"ID\",\n      \"properties\": {\n        \"dtype\": \"number\",\n        \"std\": 68,\n        \"min\": 1,\n        \"max\": 178,\n        \"num_unique_values\": 42,\n        \"samples\": [\n          98,\n          17,\n          11\n        ],\n        \"semantic_type\": \"\",\n        \"description\": \"\"\n      }\n    },\n    {\n      \"column\": \"Auscultation Point\",\n      \"properties\": {\n        \"dtype\": \"category\",\n        \"num_unique_values\": 4,\n        \"samples\": [\n          \"TV\",\n          \"AV\",\n          \"PV\"\n        ],\n        \"semantic_type\": \"\",\n        \"description\": \"\"\n      }\n    },\n    {\n      \"column\": \"True S1S2\",\n      \"properties\": {\n        \"dtype\": \"number\",\n        \"std\": 35.87369960820928,\n        \"min\": 234.6,\n        \"max\": 418.5,\n        \"num_unique_values\": 66,\n        \"samples\": [\n          334.8,\n          319.90000000000003,\n          343.7\n        ],\n        \"semantic_type\": \"\",\n        \"description\": \"\"\n      }\n    },\n    {\n      \"column\": \"UNET S1S2_start\",\n      \"properties\": {\n        \"dtype\": \"number\",\n        \"std\": 28.467691236853987,\n        \"min\": 264.0000000000001,\n        \"max\": 382.7586206896548,\n        \"num_unique_values\": 84,\n        \"samples\": [\n          376.4705882352944,\n          344.2424242424244,\n          286.66666666666663\n        ],\n        \"semantic_type\": \"\",\n        \"description\": \"\"\n      }\n    },\n    {\n      \"column\": \"S1S2_start error\",\n      \"properties\": {\n        \"dtype\": \"number\",\n        \"std\": 21.05684194375764,\n        \"min\": 0.2999999999998408,\n        \"max\": 96.07692307692348,\n        \"num_unique_values\": 84,\n        \"samples\": [\n          19.629411764705598,\n          0.5424242424243744,\n          10.733333333333404\n        ],\n        \"semantic_type\": \"\",\n        \"description\": \"\"\n      }\n    },\n    {\n      \"column\": \"UNET S1S2_end\",\n      \"properties\": {\n        \"dtype\": \"number\",\n        \"std\": 25.88070523398975,\n        \"min\": 165.00000000000003,\n        \"max\": 284.70588235294093,\n        \"num_unique_values\": 84,\n        \"samples\": [\n          264.4444444444446,\n          237.6470588235294,\n          185.51724137931052\n        ],\n        \"semantic_type\": \"\",\n        \"description\": \"\"\n      }\n    },\n    {\n      \"column\": \"S1S2_end error\",\n      \"properties\": {\n        \"dtype\": \"number\",\n        \"std\": 25.934211154520884,\n        \"min\": 12.542857142856889,\n        \"max\": 194.5999999999997,\n        \"num_unique_values\": 84,\n        \"samples\": [\n          131.6555555555554,\n          106.0529411764706,\n          111.88275862068949\n        ],\n        \"semantic_type\": \"\",\n        \"description\": \"\"\n      }\n    },\n    {\n      \"column\": \"S1S2_mid error\",\n      \"properties\": {\n        \"dtype\": \"number\",\n        \"std\": 24.63759727246901,\n        \"min\": 0.4484848484846679,\n        \"max\": 110.85714285714334,\n        \"num_unique_values\": 84,\n        \"samples\": [\n          35.54444444444431,\n          3.4058823529407505,\n          31.566666666666777\n        ],\n        \"semantic_type\": \"\",\n        \"description\": \"\"\n      }\n    },\n    {\n      \"column\": \"UNET S1S2_mid\",\n      \"properties\": {\n        \"dtype\": \"number\",\n        \"std\": 30.08691469913779,\n        \"min\": 217.14285714285623,\n        \"max\": 375.4999999999999,\n        \"num_unique_values\": 84,\n        \"samples\": [\n          360.5555555555557,\n          340.29411764705924,\n          265.83333333333326\n        ],\n        \"semantic_type\": \"\",\n        \"description\": \"\"\n      }\n    },\n    {\n      \"column\": \"Status_of_EF\",\n      \"properties\": {\n        \"dtype\": \"number\",\n        \"std\": 0,\n        \"min\": 1,\n        \"max\": 3,\n        \"num_unique_values\": 3,\n        \"samples\": [\n          2,\n          1,\n          3\n        ],\n        \"semantic_type\": \"\",\n        \"description\": \"\"\n      }\n    }\n  ]\n}",
       "type": "dataframe",
       "variable_name": "df_S1S2"
      },
      "text/html": [
       "\n",
       "  <div id=\"df-1d4447df-9df9-40f0-9b7c-87a404488c9f\" class=\"colab-df-container\">\n",
       "    <div>\n",
       "<style scoped>\n",
       "    .dataframe tbody tr th:only-of-type {\n",
       "        vertical-align: middle;\n",
       "    }\n",
       "\n",
       "    .dataframe tbody tr th {\n",
       "        vertical-align: top;\n",
       "    }\n",
       "\n",
       "    .dataframe thead th {\n",
       "        text-align: right;\n",
       "    }\n",
       "</style>\n",
       "<table border=\"1\" class=\"dataframe\">\n",
       "  <thead>\n",
       "    <tr style=\"text-align: right;\">\n",
       "      <th></th>\n",
       "      <th>ID</th>\n",
       "      <th>Auscultation Point</th>\n",
       "      <th>True S1S2</th>\n",
       "      <th>UNET S1S2_start</th>\n",
       "      <th>S1S2_start error</th>\n",
       "      <th>UNET S1S2_end</th>\n",
       "      <th>S1S2_end error</th>\n",
       "      <th>S1S2_mid error</th>\n",
       "      <th>UNET S1S2_mid</th>\n",
       "      <th>Status_of_EF</th>\n",
       "    </tr>\n",
       "  </thead>\n",
       "  <tbody>\n",
       "    <tr>\n",
       "      <th>0</th>\n",
       "      <td>1</td>\n",
       "      <td>PV</td>\n",
       "      <td>343.7</td>\n",
       "      <td>344.242424</td>\n",
       "      <td>0.542424</td>\n",
       "      <td>237.647059</td>\n",
       "      <td>106.052941</td>\n",
       "      <td>3.405882</td>\n",
       "      <td>340.294118</td>\n",
       "      <td>2</td>\n",
       "    </tr>\n",
       "    <tr>\n",
       "      <th>1</th>\n",
       "      <td>1</td>\n",
       "      <td>TV</td>\n",
       "      <td>345.3</td>\n",
       "      <td>325.555556</td>\n",
       "      <td>19.744444</td>\n",
       "      <td>225.000000</td>\n",
       "      <td>120.300000</td>\n",
       "      <td>31.615789</td>\n",
       "      <td>313.684211</td>\n",
       "      <td>2</td>\n",
       "    </tr>\n",
       "    <tr>\n",
       "      <th>2</th>\n",
       "      <td>3</td>\n",
       "      <td>MV</td>\n",
       "      <td>282.5</td>\n",
       "      <td>264.000000</td>\n",
       "      <td>18.500000</td>\n",
       "      <td>188.000000</td>\n",
       "      <td>94.500000</td>\n",
       "      <td>10.833333</td>\n",
       "      <td>271.666667</td>\n",
       "      <td>1</td>\n",
       "    </tr>\n",
       "    <tr>\n",
       "      <th>3</th>\n",
       "      <td>4</td>\n",
       "      <td>AV</td>\n",
       "      <td>306.4</td>\n",
       "      <td>312.000000</td>\n",
       "      <td>5.600000</td>\n",
       "      <td>208.000000</td>\n",
       "      <td>98.400000</td>\n",
       "      <td>21.600000</td>\n",
       "      <td>284.800000</td>\n",
       "      <td>2</td>\n",
       "    </tr>\n",
       "    <tr>\n",
       "      <th>4</th>\n",
       "      <td>4</td>\n",
       "      <td>TV</td>\n",
       "      <td>298.9</td>\n",
       "      <td>334.545455</td>\n",
       "      <td>35.645455</td>\n",
       "      <td>218.181818</td>\n",
       "      <td>80.718182</td>\n",
       "      <td>14.433333</td>\n",
       "      <td>313.333333</td>\n",
       "      <td>2</td>\n",
       "    </tr>\n",
       "  </tbody>\n",
       "</table>\n",
       "</div>\n",
       "    <div class=\"colab-df-buttons\">\n",
       "\n",
       "  <div class=\"colab-df-container\">\n",
       "    <button class=\"colab-df-convert\" onclick=\"convertToInteractive('df-1d4447df-9df9-40f0-9b7c-87a404488c9f')\"\n",
       "            title=\"Convert this dataframe to an interactive table.\"\n",
       "            style=\"display:none;\">\n",
       "\n",
       "  <svg xmlns=\"http://www.w3.org/2000/svg\" height=\"24px\" viewBox=\"0 -960 960 960\">\n",
       "    <path d=\"M120-120v-720h720v720H120Zm60-500h600v-160H180v160Zm220 220h160v-160H400v160Zm0 220h160v-160H400v160ZM180-400h160v-160H180v160Zm440 0h160v-160H620v160ZM180-180h160v-160H180v160Zm440 0h160v-160H620v160Z\"/>\n",
       "  </svg>\n",
       "    </button>\n",
       "\n",
       "  <style>\n",
       "    .colab-df-container {\n",
       "      display:flex;\n",
       "      gap: 12px;\n",
       "    }\n",
       "\n",
       "    .colab-df-convert {\n",
       "      background-color: #E8F0FE;\n",
       "      border: none;\n",
       "      border-radius: 50%;\n",
       "      cursor: pointer;\n",
       "      display: none;\n",
       "      fill: #1967D2;\n",
       "      height: 32px;\n",
       "      padding: 0 0 0 0;\n",
       "      width: 32px;\n",
       "    }\n",
       "\n",
       "    .colab-df-convert:hover {\n",
       "      background-color: #E2EBFA;\n",
       "      box-shadow: 0px 1px 2px rgba(60, 64, 67, 0.3), 0px 1px 3px 1px rgba(60, 64, 67, 0.15);\n",
       "      fill: #174EA6;\n",
       "    }\n",
       "\n",
       "    .colab-df-buttons div {\n",
       "      margin-bottom: 4px;\n",
       "    }\n",
       "\n",
       "    [theme=dark] .colab-df-convert {\n",
       "      background-color: #3B4455;\n",
       "      fill: #D2E3FC;\n",
       "    }\n",
       "\n",
       "    [theme=dark] .colab-df-convert:hover {\n",
       "      background-color: #434B5C;\n",
       "      box-shadow: 0px 1px 3px 1px rgba(0, 0, 0, 0.15);\n",
       "      filter: drop-shadow(0px 1px 2px rgba(0, 0, 0, 0.3));\n",
       "      fill: #FFFFFF;\n",
       "    }\n",
       "  </style>\n",
       "\n",
       "    <script>\n",
       "      const buttonEl =\n",
       "        document.querySelector('#df-1d4447df-9df9-40f0-9b7c-87a404488c9f button.colab-df-convert');\n",
       "      buttonEl.style.display =\n",
       "        google.colab.kernel.accessAllowed ? 'block' : 'none';\n",
       "\n",
       "      async function convertToInteractive(key) {\n",
       "        const element = document.querySelector('#df-1d4447df-9df9-40f0-9b7c-87a404488c9f');\n",
       "        const dataTable =\n",
       "          await google.colab.kernel.invokeFunction('convertToInteractive',\n",
       "                                                    [key], {});\n",
       "        if (!dataTable) return;\n",
       "\n",
       "        const docLinkHtml = 'Like what you see? Visit the ' +\n",
       "          '<a target=\"_blank\" href=https://colab.research.google.com/notebooks/data_table.ipynb>data table notebook</a>'\n",
       "          + ' to learn more about interactive tables.';\n",
       "        element.innerHTML = '';\n",
       "        dataTable['output_type'] = 'display_data';\n",
       "        await google.colab.output.renderOutput(dataTable, element);\n",
       "        const docLink = document.createElement('div');\n",
       "        docLink.innerHTML = docLinkHtml;\n",
       "        element.appendChild(docLink);\n",
       "      }\n",
       "    </script>\n",
       "  </div>\n",
       "\n",
       "\n",
       "<div id=\"df-dc43fe3e-45c3-477b-b066-64a7b93c25dc\">\n",
       "  <button class=\"colab-df-quickchart\" onclick=\"quickchart('df-dc43fe3e-45c3-477b-b066-64a7b93c25dc')\"\n",
       "            title=\"Suggest charts\"\n",
       "            style=\"display:none;\">\n",
       "\n",
       "<svg xmlns=\"http://www.w3.org/2000/svg\" height=\"24px\"viewBox=\"0 0 24 24\"\n",
       "     width=\"24px\">\n",
       "    <g>\n",
       "        <path d=\"M19 3H5c-1.1 0-2 .9-2 2v14c0 1.1.9 2 2 2h14c1.1 0 2-.9 2-2V5c0-1.1-.9-2-2-2zM9 17H7v-7h2v7zm4 0h-2V7h2v10zm4 0h-2v-4h2v4z\"/>\n",
       "    </g>\n",
       "</svg>\n",
       "  </button>\n",
       "\n",
       "<style>\n",
       "  .colab-df-quickchart {\n",
       "      --bg-color: #E8F0FE;\n",
       "      --fill-color: #1967D2;\n",
       "      --hover-bg-color: #E2EBFA;\n",
       "      --hover-fill-color: #174EA6;\n",
       "      --disabled-fill-color: #AAA;\n",
       "      --disabled-bg-color: #DDD;\n",
       "  }\n",
       "\n",
       "  [theme=dark] .colab-df-quickchart {\n",
       "      --bg-color: #3B4455;\n",
       "      --fill-color: #D2E3FC;\n",
       "      --hover-bg-color: #434B5C;\n",
       "      --hover-fill-color: #FFFFFF;\n",
       "      --disabled-bg-color: #3B4455;\n",
       "      --disabled-fill-color: #666;\n",
       "  }\n",
       "\n",
       "  .colab-df-quickchart {\n",
       "    background-color: var(--bg-color);\n",
       "    border: none;\n",
       "    border-radius: 50%;\n",
       "    cursor: pointer;\n",
       "    display: none;\n",
       "    fill: var(--fill-color);\n",
       "    height: 32px;\n",
       "    padding: 0;\n",
       "    width: 32px;\n",
       "  }\n",
       "\n",
       "  .colab-df-quickchart:hover {\n",
       "    background-color: var(--hover-bg-color);\n",
       "    box-shadow: 0 1px 2px rgba(60, 64, 67, 0.3), 0 1px 3px 1px rgba(60, 64, 67, 0.15);\n",
       "    fill: var(--button-hover-fill-color);\n",
       "  }\n",
       "\n",
       "  .colab-df-quickchart-complete:disabled,\n",
       "  .colab-df-quickchart-complete:disabled:hover {\n",
       "    background-color: var(--disabled-bg-color);\n",
       "    fill: var(--disabled-fill-color);\n",
       "    box-shadow: none;\n",
       "  }\n",
       "\n",
       "  .colab-df-spinner {\n",
       "    border: 2px solid var(--fill-color);\n",
       "    border-color: transparent;\n",
       "    border-bottom-color: var(--fill-color);\n",
       "    animation:\n",
       "      spin 1s steps(1) infinite;\n",
       "  }\n",
       "\n",
       "  @keyframes spin {\n",
       "    0% {\n",
       "      border-color: transparent;\n",
       "      border-bottom-color: var(--fill-color);\n",
       "      border-left-color: var(--fill-color);\n",
       "    }\n",
       "    20% {\n",
       "      border-color: transparent;\n",
       "      border-left-color: var(--fill-color);\n",
       "      border-top-color: var(--fill-color);\n",
       "    }\n",
       "    30% {\n",
       "      border-color: transparent;\n",
       "      border-left-color: var(--fill-color);\n",
       "      border-top-color: var(--fill-color);\n",
       "      border-right-color: var(--fill-color);\n",
       "    }\n",
       "    40% {\n",
       "      border-color: transparent;\n",
       "      border-right-color: var(--fill-color);\n",
       "      border-top-color: var(--fill-color);\n",
       "    }\n",
       "    60% {\n",
       "      border-color: transparent;\n",
       "      border-right-color: var(--fill-color);\n",
       "    }\n",
       "    80% {\n",
       "      border-color: transparent;\n",
       "      border-right-color: var(--fill-color);\n",
       "      border-bottom-color: var(--fill-color);\n",
       "    }\n",
       "    90% {\n",
       "      border-color: transparent;\n",
       "      border-bottom-color: var(--fill-color);\n",
       "    }\n",
       "  }\n",
       "</style>\n",
       "\n",
       "  <script>\n",
       "    async function quickchart(key) {\n",
       "      const quickchartButtonEl =\n",
       "        document.querySelector('#' + key + ' button');\n",
       "      quickchartButtonEl.disabled = true;  // To prevent multiple clicks.\n",
       "      quickchartButtonEl.classList.add('colab-df-spinner');\n",
       "      try {\n",
       "        const charts = await google.colab.kernel.invokeFunction(\n",
       "            'suggestCharts', [key], {});\n",
       "      } catch (error) {\n",
       "        console.error('Error during call to suggestCharts:', error);\n",
       "      }\n",
       "      quickchartButtonEl.classList.remove('colab-df-spinner');\n",
       "      quickchartButtonEl.classList.add('colab-df-quickchart-complete');\n",
       "    }\n",
       "    (() => {\n",
       "      let quickchartButtonEl =\n",
       "        document.querySelector('#df-dc43fe3e-45c3-477b-b066-64a7b93c25dc button');\n",
       "      quickchartButtonEl.style.display =\n",
       "        google.colab.kernel.accessAllowed ? 'block' : 'none';\n",
       "    })();\n",
       "  </script>\n",
       "</div>\n",
       "\n",
       "    </div>\n",
       "  </div>\n"
      ],
      "text/plain": [
       "   ID Auscultation Point  True S1S2  UNET S1S2_start  S1S2_start error  \\\n",
       "0   1                 PV      343.7       344.242424          0.542424   \n",
       "1   1                 TV      345.3       325.555556         19.744444   \n",
       "2   3                 MV      282.5       264.000000         18.500000   \n",
       "3   4                 AV      306.4       312.000000          5.600000   \n",
       "4   4                 TV      298.9       334.545455         35.645455   \n",
       "\n",
       "   UNET S1S2_end  S1S2_end error  S1S2_mid error  UNET S1S2_mid  Status_of_EF  \n",
       "0     237.647059      106.052941        3.405882     340.294118             2  \n",
       "1     225.000000      120.300000       31.615789     313.684211             2  \n",
       "2     188.000000       94.500000       10.833333     271.666667             1  \n",
       "3     208.000000       98.400000       21.600000     284.800000             2  \n",
       "4     218.181818       80.718182       14.433333     313.333333             2  "
      ]
     },
     "execution_count": 4,
     "metadata": {},
     "output_type": "execute_result"
    }
   ],
   "source": [
    "import pandas as pd\n",
    "\n",
    "df_S1S2 = pd.read_csv(file_path)\n",
    "df_S1S2.head()  # Display first few rows"
   ]
  },
  {
   "cell_type": "markdown",
   "metadata": {
    "id": "aSxeFSWVmKDi"
   },
   "source": [
    "## Estimated S1S2 vs True S1S2"
   ]
  },
  {
   "cell_type": "code",
   "execution_count": null,
   "metadata": {
    "colab": {
     "base_uri": "https://localhost:8080/"
    },
    "executionInfo": {
     "elapsed": 327,
     "status": "ok",
     "timestamp": 1738683444092,
     "user": {
      "displayName": "Mariana Lourenço",
      "userId": "17945093930787008575"
     },
     "user_tz": 0
    },
    "id": "E4jteP93lwz5",
    "outputId": "6169031f-76d4-4d10-d4d2-d35e7ec32d72"
   },
   "outputs": [
    {
     "name": "stdout",
     "output_type": "stream",
     "text": [
      "             S1S2_start error                       S1S2_end error  \\\n",
      "                         mean     median        std           mean   \n",
      "Status_of_EF                                                         \n",
      "1                   33.445393  29.607453  16.122711      76.958083   \n",
      "2                   23.893000  19.900794  18.981007     120.418193   \n",
      "3                   19.743904  12.841288  22.204530     118.507483   \n",
      "\n",
      "                                    S1S2_mid error                        \n",
      "                  median        std           mean     median        std  \n",
      "Status_of_EF                                                              \n",
      "1              82.850000  49.194373      36.574090  32.678571  27.008668  \n",
      "2             119.659091  23.638422      30.294299  20.742683  24.702121  \n",
      "3             117.637561  22.884483      28.114424  23.201681  24.811128  \n",
      "Best EF group based on mean S1S2_start error: 3\n"
     ]
    }
   ],
   "source": [
    "import pandas as pd\n",
    "\n",
    "# Load dataset\n",
    "df_S1S2 = pd.read_csv(file_path)\n",
    "\n",
    "# Group by auscultation point and compute statistics for errors\n",
    "error_stats = df_S1S2.groupby(\"Status_of_EF\")[[\"S1S2_start error\", \"S1S2_end error\", \"S1S2_mid error\"]].agg([\"mean\", \"median\", \"std\"])\n",
    "\n",
    "# Display statistics\n",
    "print(error_stats)\n",
    "\n",
    "# Identify the best auscultation point based on lowest mean error\n",
    "best_point = error_stats.idxmin()[\"S1S2_start error\"][\"median\"]\n",
    "print(f\"Best EF group based on mean S1S2_start error: {best_point}\")"
   ]
  },
  {
   "cell_type": "code",
   "execution_count": null,
   "metadata": {
    "colab": {
     "base_uri": "https://localhost:8080/",
     "height": 472
    },
    "executionInfo": {
     "elapsed": 549,
     "status": "ok",
     "timestamp": 1738683497862,
     "user": {
      "displayName": "Mariana Lourenço",
      "userId": "17945093930787008575"
     },
     "user_tz": 0
    },
    "id": "67XxXEDtnQVR",
    "outputId": "e9ae9eca-060d-4e80-fa8b-8caec93c575a"
   },
   "outputs": [
    {
     "data": {
      "image/png": "[encoded data removed]",
      "text/plain": [
       "<Figure size 640x480 with 1 Axes>"
      ]
     },
     "metadata": {},
     "output_type": "display_data"
    }
   ],
   "source": [
    "import matplotlib.pyplot as plt\n",
    "import numpy as np\n",
    "\n",
    "mean_S1S2 = (df_S1S2[\"True S1S2\"] + df_S1S2[\"UNET S1S2_start\"]) / 2\n",
    "diff_S1S2 = df_S1S2[\"True S1S2\"] - df_S1S2[\"UNET S1S2_start\"]\n",
    "mean_diff = np.mean(diff_S1S2)\n",
    "std_diff = np.std(diff_S1S2)\n",
    "\n",
    "plt.scatter(mean_S1S2, diff_S1S2)\n",
    "plt.axhline(mean_diff, color='red', linestyle='--')\n",
    "plt.axhline(mean_diff + 1.96 * std_diff, color='gray', linestyle='--')\n",
    "plt.axhline(mean_diff - 1.96 * std_diff, color='gray', linestyle='--')\n",
    "plt.xlabel(\"Mean (True S1S2, UNET S1S2_start)\")\n",
    "plt.ylabel(\"Difference (True - UNET)\")\n",
    "plt.title(\"Bland-Altman Plot\")\n",
    "plt.show()"
   ]
  },
  {
   "cell_type": "code",
   "execution_count": null,
   "metadata": {
    "colab": {
     "base_uri": "https://localhost:8080/"
    },
    "executionInfo": {
     "elapsed": 227,
     "status": "ok",
     "timestamp": 1738683905900,
     "user": {
      "displayName": "Mariana Lourenço",
      "userId": "17945093930787008575"
     },
     "user_tz": 0
    },
    "id": "LRejJfMrnTh5",
    "outputId": "32a0505f-c73f-41b1-e1ba-3d7e3db54eb6"
   },
   "outputs": [
    {
     "name": "stdout",
     "output_type": "stream",
     "text": [
      "MAE: 21.680599697306793, RMSE: 30.13570202339756\n"
     ]
    }
   ],
   "source": [
    "from sklearn.metrics import mean_absolute_error, mean_squared_error\n",
    "import numpy as np\n",
    "\n",
    "mae = mean_absolute_error(df_S1S2[\"True S1S2\"], df_S1S2[\"UNET S1S2_start\"])\n",
    "rmse = np.sqrt(mean_squared_error(df_S1S2[\"True S1S2\"], df_S1S2[\"UNET S1S2_start\"]))\n",
    "\n",
    "print(f\"MAE: {mae}, RMSE: {rmse}\")"
   ]
  },
  {
   "cell_type": "code",
   "execution_count": null,
   "metadata": {
    "colab": {
     "base_uri": "https://localhost:8080/",
     "height": 415
    },
    "executionInfo": {
     "elapsed": 1116,
     "status": "ok",
     "timestamp": 1738682535969,
     "user": {
      "displayName": "Mariana Lourenço",
      "userId": "17945093930787008575"
     },
     "user_tz": 0
    },
    "id": "X4nS5RiVpc8q",
    "outputId": "fdb8c1cd-8e03-4aed-86ee-ff36ea80be2d"
   },
   "outputs": [
    {
     "data": {
      "image/png": "[encoded data removed]",
      "text/plain": [
       "<Figure size 1000x500 with 1 Axes>"
      ]
     },
     "metadata": {},
     "output_type": "display_data"
    }
   ],
   "source": [
    "import seaborn as sns\n",
    "import matplotlib.pyplot as plt\n",
    "\n",
    "plt.figure(figsize=(10, 5))\n",
    "sns.boxplot(x=\"Status_of_EF\", y=\"S1S2_sa error\", data=df_S1S2)\n",
    "plt.title(\"S1S2 Mid Error Distribution Across EF Status Groups\")\n",
    "plt.show()"
   ]
  },
  {
   "cell_type": "code",
   "execution_count": null,
   "metadata": {
    "colab": {
     "base_uri": "https://localhost:8080/"
    },
    "executionInfo": {
     "elapsed": 7,
     "status": "ok",
     "timestamp": 1738682535970,
     "user": {
      "displayName": "Mariana Lourenço",
      "userId": "17945093930787008575"
     },
     "user_tz": 0
    },
    "id": "hvAjC9Sspgly",
    "outputId": "50f95dfb-074a-4521-9e03-fd9195125c93"
   },
   "outputs": [
    {
     "name": "stdout",
     "output_type": "stream",
     "text": [
      "ANOVA p-value: 0.7773946447416531\n"
     ]
    }
   ],
   "source": [
    "from scipy.stats import f_oneway\n",
    "\n",
    "groups = [df_S1S2[df_S1S2[\"Status_of_EF\"] == ef][\"S1S2_mid error\"] for ef in df_S1S2[\"Status_of_EF\"].unique()]\n",
    "stat, p = f_oneway(*groups)\n",
    "print(f\"ANOVA p-value: {p}\")"
   ]
  },
  {
   "cell_type": "code",
   "execution_count": null,
   "metadata": {
    "colab": {
     "base_uri": "https://localhost:8080/"
    },
    "executionInfo": {
     "elapsed": 4,
     "status": "ok",
     "timestamp": 1738682535971,
     "user": {
      "displayName": "Mariana Lourenço",
      "userId": "17945093930787008575"
     },
     "user_tz": 0
    },
    "id": "0muelb80pjTm",
    "outputId": "32e19d52-28d9-4281-a021-404468c1a440"
   },
   "outputs": [
    {
     "name": "stdout",
     "output_type": "stream",
     "text": [
      "Spearman Correlation for S1S2_mid vs EF Status: 0.2052780006091892, p-value: 0.06103866297093939\n"
     ]
    }
   ],
   "source": [
    "from scipy.stats import spearmanr\n",
    "\n",
    "corr, p = spearmanr(df_S1S2[\"Status_of_EF\"], df_S1S2[\"UNET S1S2_mid\"])\n",
    "print(f\"Spearman Correlation for S1S2_mid vs EF Status: {corr}, p-value: {p}\")"
   ]
  }
 ],
 "metadata": {
  "colab": {
   "provenance": [
    {
     "file_id": "1v0ArP2HRM6Rs-ipSWQeYvIsqEAwqonWf",
     "timestamp": 1738851801960
    },
    {
     "file_id": "1Um7uy1DFxS0_pu0U-HnT3jYmltbeoeb4",
     "timestamp": 1738447498557
    },
    {
     "file_id": "14-JEBvMnZ2mBh3rsWcjcKI5htsNoo5zX",
     "timestamp": 1738152064218
    },
    {
     "file_id": "1GkcWPkCf4xHQxP8QbmBAAlwSFd6C01ql",
     "timestamp": 1737892456648
    }
   ]
  },
  "kernelspec": {
   "display_name": ".venv",
   "language": "python",
   "name": "python3"
  },
  "language_info": {
   "codemirror_mode": {
    "name": "ipython",
    "version": 3
   },
   "file_extension": ".py",
   "mimetype": "text/x-python",
   "name": "python",
   "nbconvert_exporter": "python",
   "pygments_lexer": "ipython3",
   "version": "3.11.5"
  }
 },
 "nbformat": 4,
 "nbformat_minor": 0
}
